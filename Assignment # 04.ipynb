{
 "cells": [
  {
   "cell_type": "code",
   "execution_count": 20,
   "metadata": {},
   "outputs": [
    {
     "name": "stdout",
     "output_type": "stream",
     "text": [
      "{'first_name': 'Shaheryar', 'last_name': 'Qasim', 'age': 19, 'city': 'Karachi', 'province': 'Sindh', 'qualification': 'Inter'}\n",
      "{'first_name': 'Shaheryar', 'last_name': 'Qasim', 'age': 19, 'city': 'Karachi', 'province': 'Sindh', 'qualification': 'BSSE'}\n",
      "{'first_name': 'Shaheryar', 'last_name': 'Qasim', 'age': 19, 'city': 'Karachi', 'qualification': 'BSSE'}\n"
     ]
    }
   ],
   "source": [
    "person = {\n",
    "    \"first_name\" : \"Shaheryar\",\n",
    "    \"last_name\" : \"Qasim\",\n",
    "    \"age\" : 19,\n",
    "    \"city\" : \"Karachi\",\n",
    "    \"province\" : \"Sindh\",\n",
    "    \"qualification\" : \"Inter\",\n",
    "    \n",
    "}\n",
    "print(person)\n",
    "person [\"qualification\"] = \"BSSE\"\n",
    "print(person)\n",
    "del person [\"province\"]\n",
    "print(person)"
   ]
  },
  {
   "cell_type": "code",
   "execution_count": 21,
   "metadata": {},
   "outputs": [
    {
     "name": "stdout",
     "output_type": "stream",
     "text": [
      "{'Country': 'Pakistan', 'Population': 15741000, 'Fact': 'It is also known as city of lights.'}\n",
      "{'Country': 'India', 'Population': 20185064, 'Fact': 'It is the wealhiest city in india.'}\n",
      "{'Country': 'Turkey', 'Population': 14968000, 'Fact': 'It is the only city that straddles two continents, Asia and Europe.'}\n"
     ]
    }
   ],
   "source": [
    "cities = {\n",
    "    \"Karachi\" : {\n",
    "                \"Country\" : \"Pakistan\",\n",
    "                \"Population\" : 15741000,\n",
    "                \"Fact\" : \"It is also known as city of lights.\"\n",
    "                },\n",
    "    \"Mumbai\" : {\n",
    "                \"Country\" : \"India\",\n",
    "                \"Population\" : 20185064,\n",
    "                \"Fact\" : \"It is the wealhiest city in india.\"\n",
    "                },\n",
    "    \"Istanbul\" : {\n",
    "                \"Country\" : \"Turkey\",\n",
    "                \"Population\" : 14968000,\n",
    "                \"Fact\" : \"It is the only city that straddles two continents, Asia and Europe.\"\n",
    "                }\n",
    "        }\n",
    "print(cities[\"Karachi\"])\n",
    "print(cities[\"Mumbai\"])\n",
    "print(cities[\"Istanbul\"])\n"
   ]
  },
  {
   "cell_type": "code",
   "execution_count": 23,
   "metadata": {},
   "outputs": [
    {
     "name": "stdout",
     "output_type": "stream",
     "text": [
      "Enter your Age 19\n",
      "The price of ticket is 15$\n"
     ]
    }
   ],
   "source": [
    "age = input(\"Enter your Age \")\n",
    "age1 = int(age)\n",
    "for i in age :\n",
    "    if age1 < 3 :\n",
    "        print(\"The Ticket is free for you\")\n",
    "    elif age1 >= 3 and age1 <= 12 :\n",
    "        print(\"The Price of ticket is 10$\")\n",
    "    elif age1 > 12 :\n",
    "        print(\"The price of ticket is 15$\")\n",
    "        break"
   ]
  },
  {
   "cell_type": "code",
   "execution_count": 24,
   "metadata": {},
   "outputs": [
    {
     "name": "stdout",
     "output_type": "stream",
     "text": [
      "One of m favourite book is Alice in Wonderland.\n"
     ]
    }
   ],
   "source": [
    "def favourite_book(title):\n",
    "    print(\"One of m favourite book is \" + title)\n",
    "    \n",
    "favourite_book(\"Alice in Wonderland.\")"
   ]
  },
  {
   "cell_type": "code",
   "execution_count": 27,
   "metadata": {},
   "outputs": [
    {
     "name": "stdout",
     "output_type": "stream",
     "text": [
      "\n",
      "\tYou have 5 chances to guess the hidden number (from 1 to 30): 5\n",
      "\tYour guess is less than the hidden number !\n",
      "\n",
      "\tYou have 4 chances to guess the hidden number (from 1 to 30): 9\n",
      "\tYour guess is less than the hidden number !\n",
      "\n",
      "\tYou have 3 chances to guess the hidden number (from 1 to 30): 17\n",
      "\tYour guess is less than the hidden number !\n",
      "\n",
      "\tYou have 2 chances to guess the hidden number (from 1 to 30): 20\n",
      "\tYour guess is greater than the hidden number !\n",
      "\n",
      "\tYou have 1 chances to guess the hidden number (from 1 to 30): 18\n",
      "\tYour guess is less than the hidden number !\n",
      "\n",
      "\tYou Lost ! :(  Hidden Number was 27\n"
     ]
    }
   ],
   "source": [
    "import random as rd\n",
    "i = 5\n",
    "while i > 0:\n",
    "    correct_num = rd.randint(1,30)\n",
    "    user_num = int(input(f\"\\n\\tYou have {i} chances to guess the hidden number (from 1 to 30): \"))\n",
    "    \n",
    "    if user_num == correct_num:\n",
    "        print(\"\\t***Congrats ! Correct Guess, You Won*** :)\")\n",
    "        break\n",
    "    elif user_num > correct_num:\n",
    "        print(\"\\tYour guess is greater than the hidden number !\")\n",
    "        i -= 1\n",
    "    elif user_num < correct_num:\n",
    "        print(\"\\tYour guess is less than the hidden number !\")\n",
    "        i -= 1\n",
    "    elif user_num < 1 or user_num > 30:\n",
    "        print(\"\\tPlease enter number in range 1 to 30 !\")\n",
    "        \n",
    "if i == 0:\n",
    "    print(f\"\\n\\tYou Lost ! :(  Hidden Number was {correct_num}\")\n"
   ]
  },
  {
   "cell_type": "code",
   "execution_count": null,
   "metadata": {},
   "outputs": [],
   "source": []
  }
 ],
 "metadata": {
  "kernelspec": {
   "display_name": "Python 3",
   "language": "python",
   "name": "python3"
  },
  "language_info": {
   "codemirror_mode": {
    "name": "ipython",
    "version": 3
   },
   "file_extension": ".py",
   "mimetype": "text/x-python",
   "name": "python",
   "nbconvert_exporter": "python",
   "pygments_lexer": "ipython3",
   "version": "3.7.4"
  }
 },
 "nbformat": 4,
 "nbformat_minor": 2
}
