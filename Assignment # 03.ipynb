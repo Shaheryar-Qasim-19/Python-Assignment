{
 "cells": [
  {
   "cell_type": "code",
   "execution_count": 3,
   "metadata": {},
   "outputs": [
    {
     "name": "stdout",
     "output_type": "stream",
     "text": [
      "ENTER ANY NUMBER 2\n",
      "ENTER ANY NUMBER 3\n",
      "ENTER ANY OPERATOR /\n",
      "0.6666666666666666\n"
     ]
    }
   ],
   "source": [
    "num1 = int(input(\"Enter Any Number \"))\n",
    "num2 = int(input(\"Enter Any Number \"))\n",
    "operator = input(\"Enter Any Operator \")\n",
    "if operator == \"+\" :\n",
    "    print(num1 + num2)\n",
    "elif operator == \"-\" :\n",
    "    print(num1 - num2)\n",
    "elif operator == \"*\" :\n",
    "    print(num1 * num2)\n",
    "elif operator == \"/\" :\n",
    "    print(num1 / num2)\n",
    "elif operator == \"**\" :\n",
    "    print(\"Square Of 1st Number: \", num1*num1)\n",
    "    print(\"Square Of 2nd Number: \", num2*num2)\n",
    "elif operator == \"***\" :\n",
    "    print(\"Cube Of 1st Number: \", num1*num1*num1)\n",
    "    print(\"Cube Of 2nd Number: \", num2*num2*num2)\n",
    "else :\n",
    "    print(\"Invalid Operator\")"
   ]
  },
  {
   "cell_type": "code",
   "execution_count": 9,
   "metadata": {},
   "outputs": [
    {
     "name": "stdout",
     "output_type": "stream",
     "text": [
      "3\n",
      "6\n",
      "Another Type Of Data Is Present In The List\n"
     ]
    }
   ],
   "source": [
    "list = [3, 6, \"sherry\", 6.0, 3.0]\n",
    "a = []\n",
    "try : \n",
    "    for i in list :\n",
    "        print(int(i))\n",
    "        \n",
    "except :\n",
    "    print(\"Another Type Of Data Is Present In The List\")"
   ]
  },
  {
   "cell_type": "code",
   "execution_count": 10,
   "metadata": {},
   "outputs": [
    {
     "name": "stdout",
     "output_type": "stream",
     "text": [
      "{3: 10, 1: 40}\n",
      "{3: 10, 1: 40, 2: 30}\n"
     ]
    }
   ],
   "source": [
    "d = {3:10,\n",
    "     1:40\n",
    "    }\n",
    "print(d)\n",
    "d[2]=30\n",
    "print(d)"
   ]
  },
  {
   "cell_type": "code",
   "execution_count": 6,
   "metadata": {},
   "outputs": [
    {
     "name": "stdout",
     "output_type": "stream",
     "text": [
      "Sum : 600\n"
     ]
    }
   ],
   "source": [
    "def returnSum(myDict): \n",
    "      \n",
    "    sum = 0\n",
    "    for i in myDict: \n",
    "        sum = sum + myDict[i] \n",
    "      \n",
    "    return sum\n",
    "  \n",
    "dict = {'a': 100,\n",
    "        'b': 200,\n",
    "        'c': 300\n",
    "       } \n",
    "print(\"Sum :\", returnSum(dict))\n"
   ]
  },
  {
   "cell_type": "code",
   "execution_count": 7,
   "metadata": {},
   "outputs": [
    {
     "name": "stdout",
     "output_type": "stream",
     "text": [
      "[6, 15, 15, 20, 20, 30, 40, 40, 50, 50]\n",
      "[15, 20, 40, 50]\n"
     ]
    }
   ],
   "source": [
    "my_list = [20,30,40,50,15,20,40,50,15,6]\n",
    " \n",
    "my_list.sort()\n",
    "print(my_list)\n",
    " \n",
    "new_list = sorted(set(my_list))\n",
    "dup_list =[]\n",
    " \n",
    " \n",
    "for i in range(len(new_list)):\n",
    "        if (my_list.count(new_list[i]) > 1 ):\n",
    "            dup_list.append(new_list[i])\n",
    "        \n",
    "print(dup_list)"
   ]
  },
  {
   "cell_type": "code",
   "execution_count": 8,
   "metadata": {},
   "outputs": [
    {
     "name": "stdout",
     "output_type": "stream",
     "text": [
      "Key is present in the dictionary\n",
      "Key is present in the dictionary\n"
     ]
    }
   ],
   "source": [
    "d = {1: 10,\n",
    "     'name': 'sherry',\n",
    "     'age' : 19 ,\n",
    "     3 : 40,\n",
    "     'course': 'python',\n",
    "    }\n",
    "def is_key_present(x):\n",
    " if x in d:\n",
    "    print('Key is present in the dictionary')\n",
    " else:\n",
    "    print('Key is not present in the dictionary')\n",
    "is_key_present(1)\n",
    "is_key_present('age')"
   ]
  },
  {
   "cell_type": "code",
   "execution_count": null,
   "metadata": {},
   "outputs": [],
   "source": []
  }
 ],
 "metadata": {
  "kernelspec": {
   "display_name": "Python 3",
   "language": "python",
   "name": "python3"
  },
  "language_info": {
   "codemirror_mode": {
    "name": "ipython",
    "version": 3
   },
   "file_extension": ".py",
   "mimetype": "text/x-python",
   "name": "python",
   "nbconvert_exporter": "python",
   "pygments_lexer": "ipython3",
   "version": "3.7.4"
  }
 },
 "nbformat": 4,
 "nbformat_minor": 2
}
