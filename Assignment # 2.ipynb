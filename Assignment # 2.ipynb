{
 "cells": [
  {
   "cell_type": "code",
   "execution_count": 1,
   "metadata": {},
   "outputs": [
    {
     "name": "stdout",
     "output_type": "stream",
     "text": [
      "Enter marks: 88\n",
      "Enter marks: 86\n",
      "Enter marks: 79\n",
      "Enter marks: 81\n",
      "Enter marks: 82\n",
      "83.2 %\n",
      "Grade = A+\n"
     ]
    }
   ],
   "source": [
    "OOP = int(input(\"Enter marks: \"))\n",
    "PST = int(input(\"Enter marks: \"))\n",
    "TBW = int(input(\"Enter marks: \"))\n",
    "DLD = int(input(\"Enter marks: \"))\n",
    "DS = int(input(\"Enter marks: \"))\n",
    "obt_marks = OOP+PST+TBW+DLD+DS\n",
    "percentage = (obt_marks/500)*100\n",
    "print(percentage,\"%\")\n",
    "if percentage >= 80 :\n",
    "    print(\"Grade = A+\")\n",
    "elif percentage >= 70 and percentage < 80 :\n",
    "    print(\"Grade = A\")\n",
    "elif percentage >= 60 and percentage < 70 :\n",
    "    print(\"Grade = B\")\n",
    "elif percentage >= 50 and percentage < 60 :\n",
    "    print(\"Grade = C\")\n",
    "elif percentage >= 40 and percentage < 50 :\n",
    "    print(\"Grade = D\")\n",
    "else :\n",
    "    print(\"Fail\")"
   ]
  },
  {
   "cell_type": "code",
   "execution_count": 9,
   "metadata": {},
   "outputs": [
    {
     "name": "stdout",
     "output_type": "stream",
     "text": [
      "73\n"
     ]
    }
   ],
   "source": [
    "a = [3,5,6,73,43]\n",
    "b = max(a)\n",
    "print(b)"
   ]
  },
  {
   "cell_type": "code",
   "execution_count": 11,
   "metadata": {},
   "outputs": [
    {
     "name": "stdout",
     "output_type": "stream",
     "text": [
      "Enter number: 12\n",
      "Even\n"
     ]
    }
   ],
   "source": [
    "number = int(input(\"Enter number: \"))\n",
    "if number % 2 == 0 :\n",
    "    print(\"Even\")\n",
    "else :\n",
    "    print(\"Odd\")"
   ]
  },
  {
   "cell_type": "code",
   "execution_count": 12,
   "metadata": {},
   "outputs": [
    {
     "name": "stdout",
     "output_type": "stream",
     "text": [
      "5\n"
     ]
    }
   ],
   "source": [
    "a = [35,99,23,66,90]\n",
    "b = len(a)\n",
    "print(b)"
   ]
  },
  {
   "cell_type": "code",
   "execution_count": 13,
   "metadata": {},
   "outputs": [
    {
     "name": "stdout",
     "output_type": "stream",
     "text": [
      "313\n"
     ]
    }
   ],
   "source": [
    "a = [35,99,23,66,90]\n",
    "b = sum(a)\n",
    "print(b)"
   ]
  },
  {
   "cell_type": "code",
   "execution_count": 15,
   "metadata": {},
   "outputs": [
    {
     "name": "stdout",
     "output_type": "stream",
     "text": [
      "1\n",
      "1\n",
      "2\n",
      "3\n"
     ]
    }
   ],
   "source": [
    "a = [1,1,2,3,5,8,13,21,34,55,89]\n",
    "for i in a :\n",
    "    if i < 5 :\n",
    "        print(i)"
   ]
  }
 ],
 "metadata": {
  "kernelspec": {
   "display_name": "Python 3",
   "language": "python",
   "name": "python3"
  },
  "language_info": {
   "codemirror_mode": {
    "name": "ipython",
    "version": 3
   },
   "file_extension": ".py",
   "mimetype": "text/x-python",
   "name": "python",
   "nbconvert_exporter": "python",
   "pygments_lexer": "ipython3",
   "version": "3.7.4"
  }
 },
 "nbformat": 4,
 "nbformat_minor": 2
}
